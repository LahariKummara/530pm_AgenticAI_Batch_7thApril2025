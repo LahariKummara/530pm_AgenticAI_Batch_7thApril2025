{
 "cells": [
  {
   "cell_type": "code",
   "execution_count": 1,
   "id": "54a663de-1ddd-49bf-99d4-1d71a23cf44b",
   "metadata": {},
   "outputs": [
    {
     "data": {
      "text/plain": [
       "9"
      ]
     },
     "execution_count": 1,
     "metadata": {},
     "output_type": "execute_result"
    }
   ],
   "source": [
    "9"
   ]
  },
  {
   "cell_type": "code",
   "execution_count": 3,
   "id": "565391ae-bbe4-4020-aeb8-f3cf9aff815e",
   "metadata": {},
   "outputs": [
    {
     "data": {
      "text/plain": [
       "18"
      ]
     },
     "execution_count": 3,
     "metadata": {},
     "output_type": "execute_result"
    }
   ],
   "source": [
    "9+9"
   ]
  },
  {
   "cell_type": "code",
   "execution_count": 11,
   "id": "e89e139d-6fb1-4ec6-8f22-681614d889b6",
   "metadata": {},
   "outputs": [
    {
     "data": {
      "text/plain": [
       "14"
      ]
     },
     "execution_count": 11,
     "metadata": {},
     "output_type": "execute_result"
    }
   ],
   "source": [
    "9+9-(10-3)+3"
   ]
  },
  {
   "cell_type": "code",
   "execution_count": 13,
   "id": "34edeac6-da46-49de-a2de-fcbba3dd96f5",
   "metadata": {},
   "outputs": [
    {
     "data": {
      "text/plain": [
       "8"
      ]
     },
     "execution_count": 13,
     "metadata": {},
     "output_type": "execute_result"
    }
   ],
   "source": [
    "9+9-10-3+3"
   ]
  },
  {
   "cell_type": "markdown",
   "id": "d4382a0c-ab11-4240-895d-9784ad4bae63",
   "metadata": {},
   "source": [
    "# numbers are called as operand\n",
    "# +,-  are called operator"
   ]
  },
  {
   "cell_type": "markdown",
   "id": "4033b4a3-73e6-4b19-8de1-e64eea5ead1f",
   "metadata": {},
   "source": [
    "# ARITHMETIC OPERATOR"
   ]
  },
  {
   "cell_type": "markdown",
   "id": "91819a43-459c-4a54-8744-0adb979ea1b9",
   "metadata": {},
   "source": [
    "1. ARITHMETIC OPERATOR(+,-,*,/,%,%%,**,^)\n",
    "2. ASSIGNMENT OPERATOR(=)\n",
    "3. RELATIONAL OPERATOR\n",
    "4. LOGICAL OPERATOR\n",
    "5. UNARY OPERATOR\n"
   ]
  },
  {
   "cell_type": "code",
   "execution_count": 15,
   "id": "4265efe0-cfee-404b-b099-1555538ade54",
   "metadata": {},
   "outputs": [
    {
     "data": {
      "text/plain": [
       "15"
      ]
     },
     "execution_count": 15,
     "metadata": {},
     "output_type": "execute_result"
    }
   ],
   "source": [
    "10+5"
   ]
  },
  {
   "cell_type": "code",
   "execution_count": 17,
   "id": "90733824-5a44-4fcc-a18a-76d03217405e",
   "metadata": {},
   "outputs": [
    {
     "data": {
      "text/plain": [
       "5"
      ]
     },
     "execution_count": 17,
     "metadata": {},
     "output_type": "execute_result"
    }
   ],
   "source": [
    "10-5"
   ]
  },
  {
   "cell_type": "code",
   "execution_count": 19,
   "id": "65296b46-7141-437e-8602-81f6e4456fdd",
   "metadata": {},
   "outputs": [
    {
     "data": {
      "text/plain": [
       "50"
      ]
     },
     "execution_count": 19,
     "metadata": {},
     "output_type": "execute_result"
    }
   ],
   "source": [
    "10*5"
   ]
  },
  {
   "cell_type": "code",
   "execution_count": 21,
   "id": "5517ae2b-3548-4ffc-bbb2-27a5b493aedc",
   "metadata": {},
   "outputs": [
    {
     "data": {
      "text/plain": [
       "20"
      ]
     },
     "execution_count": 21,
     "metadata": {},
     "output_type": "execute_result"
    }
   ],
   "source": [
    "10*2 # MULTIPLICATION"
   ]
  },
  {
   "cell_type": "code",
   "execution_count": 23,
   "id": "7dde82ec-9bee-4bb9-96b5-a59fdaed0f67",
   "metadata": {},
   "outputs": [
    {
     "data": {
      "text/plain": [
       "100"
      ]
     },
     "execution_count": 23,
     "metadata": {},
     "output_type": "execute_result"
    }
   ],
   "source": [
    "10**2 #POWER"
   ]
  },
  {
   "cell_type": "code",
   "execution_count": 27,
   "id": "d8a5f994-5409-4ac2-93b6-6c20c093dd92",
   "metadata": {},
   "outputs": [
    {
     "data": {
      "text/plain": [
       "2.0"
      ]
     },
     "execution_count": 27,
     "metadata": {},
     "output_type": "execute_result"
    }
   ],
   "source": [
    "10/5 #fLOAT dIVISION"
   ]
  },
  {
   "cell_type": "code",
   "execution_count": 29,
   "id": "744f4897-66a9-4974-b2aa-75197649d585",
   "metadata": {},
   "outputs": [
    {
     "data": {
      "text/plain": [
       "2"
      ]
     },
     "execution_count": 29,
     "metadata": {},
     "output_type": "execute_result"
    }
   ],
   "source": [
    "10//5 #INT dIVISION"
   ]
  },
  {
   "cell_type": "code",
   "execution_count": 31,
   "id": "b26e7b03-954b-4558-8d5c-85094d84debb",
   "metadata": {},
   "outputs": [
    {
     "data": {
      "text/plain": [
       "0"
      ]
     },
     "execution_count": 31,
     "metadata": {},
     "output_type": "execute_result"
    }
   ],
   "source": [
    "10%5 #MODULUS"
   ]
  },
  {
   "cell_type": "code",
   "execution_count": 33,
   "id": "4b80bf38-9b1d-4ec6-81a5-ad5ae5e362bd",
   "metadata": {},
   "outputs": [
    {
     "data": {
      "text/plain": [
       "3"
      ]
     },
     "execution_count": 33,
     "metadata": {},
     "output_type": "execute_result"
    }
   ],
   "source": [
    "15%6"
   ]
  },
  {
   "cell_type": "markdown",
   "id": "c552e22f-dfcc-4d1d-8750-971259e5c666",
   "metadata": {},
   "source": [
    "# ASSIGNMENT OPERATOR"
   ]
  },
  {
   "cell_type": "code",
   "execution_count": 35,
   "id": "d0a139c9-77dc-468a-ab49-b1ebf12d9d6d",
   "metadata": {},
   "outputs": [
    {
     "data": {
      "text/plain": [
       "10"
      ]
     },
     "execution_count": 35,
     "metadata": {},
     "output_type": "execute_result"
    }
   ],
   "source": [
    "X=10\n",
    "X\n",
    "# X IS CALLED OBJECT,VARIABLE,IDENTIFIER\n",
    "# 10 IS A VALUE"
   ]
  },
  {
   "cell_type": "code",
   "execution_count": 37,
   "id": "0b99de39-827f-422e-99bc-cb5ee7c706b0",
   "metadata": {},
   "outputs": [
    {
     "data": {
      "text/plain": [
       "12"
      ]
     },
     "execution_count": 37,
     "metadata": {},
     "output_type": "execute_result"
    }
   ],
   "source": [
    "X+2"
   ]
  },
  {
   "cell_type": "code",
   "execution_count": 43,
   "id": "2fe6168e-f4de-45d7-9bde-0d761d483e20",
   "metadata": {},
   "outputs": [
    {
     "data": {
      "text/plain": [
       "16"
      ]
     },
     "execution_count": 43,
     "metadata": {},
     "output_type": "execute_result"
    }
   ],
   "source": [
    "X+=2\n",
    "X"
   ]
  },
  {
   "cell_type": "code",
   "execution_count": 45,
   "id": "a5ba1696-847f-42cd-9d52-5cbb6d83f385",
   "metadata": {},
   "outputs": [
    {
     "data": {
      "text/plain": [
       "18"
      ]
     },
     "execution_count": 45,
     "metadata": {},
     "output_type": "execute_result"
    }
   ],
   "source": [
    "X+=2\n",
    "X"
   ]
  },
  {
   "cell_type": "code",
   "execution_count": 53,
   "id": "9de2b4ee-594f-4470-8b41-00a261b7077c",
   "metadata": {},
   "outputs": [
    {
     "data": {
      "text/plain": [
       "16"
      ]
     },
     "execution_count": 53,
     "metadata": {},
     "output_type": "execute_result"
    }
   ],
   "source": [
    "X-=2\n",
    "X"
   ]
  },
  {
   "cell_type": "code",
   "execution_count": 55,
   "id": "b7e89218-11c3-4123-a96b-5ae07145366c",
   "metadata": {},
   "outputs": [
    {
     "data": {
      "text/plain": [
       "14"
      ]
     },
     "execution_count": 55,
     "metadata": {},
     "output_type": "execute_result"
    }
   ],
   "source": [
    "X-=2\n",
    "X"
   ]
  },
  {
   "cell_type": "code",
   "execution_count": 57,
   "id": "7fe9adda-671c-4baa-aada-2f8f4c131ea8",
   "metadata": {},
   "outputs": [
    {
     "data": {
      "text/plain": [
       "12"
      ]
     },
     "execution_count": 57,
     "metadata": {},
     "output_type": "execute_result"
    }
   ],
   "source": [
    "X-=2\n",
    "X"
   ]
  },
  {
   "cell_type": "code",
   "execution_count": 59,
   "id": "217cb185-e931-410e-a57e-9e3195965130",
   "metadata": {},
   "outputs": [
    {
     "data": {
      "text/plain": [
       "12"
      ]
     },
     "execution_count": 59,
     "metadata": {},
     "output_type": "execute_result"
    }
   ],
   "source": [
    "X"
   ]
  },
  {
   "cell_type": "code",
   "execution_count": 61,
   "id": "e8a317fb-b58f-4241-a03b-7e1ca861ad23",
   "metadata": {},
   "outputs": [
    {
     "data": {
      "text/plain": [
       "24"
      ]
     },
     "execution_count": 61,
     "metadata": {},
     "output_type": "execute_result"
    }
   ],
   "source": [
    "X*=2\n",
    "X"
   ]
  },
  {
   "cell_type": "code",
   "execution_count": 63,
   "id": "2f6f9734-db6d-4237-8db1-729e671468c1",
   "metadata": {},
   "outputs": [
    {
     "data": {
      "text/plain": [
       "48"
      ]
     },
     "execution_count": 63,
     "metadata": {},
     "output_type": "execute_result"
    }
   ],
   "source": [
    "X*=2\n",
    "X"
   ]
  },
  {
   "cell_type": "code",
   "execution_count": 65,
   "id": "0298f386-4660-44ea-a208-11f6261af073",
   "metadata": {},
   "outputs": [
    {
     "data": {
      "text/plain": [
       "24.0"
      ]
     },
     "execution_count": 65,
     "metadata": {},
     "output_type": "execute_result"
    }
   ],
   "source": [
    "X/=2\n",
    "X"
   ]
  },
  {
   "cell_type": "markdown",
   "id": "573bbb42-f631-4b54-9934-148e4041db1c",
   "metadata": {},
   "source": [
    "# UNARY OPERATOR"
   ]
  },
  {
   "cell_type": "code",
   "execution_count": 81,
   "id": "e92cc873-81cf-4e93-9197-5310296cd9db",
   "metadata": {},
   "outputs": [
    {
     "data": {
      "text/plain": [
       "7"
      ]
     },
     "execution_count": 81,
     "metadata": {},
     "output_type": "execute_result"
    }
   ],
   "source": [
    "n=7\n",
    "n"
   ]
  },
  {
   "cell_type": "code",
   "execution_count": 83,
   "id": "547d68bc-e3b1-46e5-b8f2-840b9d35855b",
   "metadata": {},
   "outputs": [
    {
     "data": {
      "text/plain": [
       "-7"
      ]
     },
     "execution_count": 83,
     "metadata": {},
     "output_type": "execute_result"
    }
   ],
   "source": [
    "m=-n\n",
    "m"
   ]
  },
  {
   "cell_type": "code",
   "execution_count": null,
   "id": "f939ba4d-a90e-4538-94d1-22cc539e562f",
   "metadata": {},
   "outputs": [],
   "source": []
  }
 ],
 "metadata": {
  "kernelspec": {
   "display_name": "Python 3 (ipykernel)",
   "language": "python",
   "name": "python3"
  },
  "language_info": {
   "codemirror_mode": {
    "name": "ipython",
    "version": 3
   },
   "file_extension": ".py",
   "mimetype": "text/x-python",
   "name": "python",
   "nbconvert_exporter": "python",
   "pygments_lexer": "ipython3",
   "version": "3.12.4"
  }
 },
 "nbformat": 4,
 "nbformat_minor": 5
}
